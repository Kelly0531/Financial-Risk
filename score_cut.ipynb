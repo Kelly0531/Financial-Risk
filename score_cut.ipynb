{
 "cells": [
  {
   "cell_type": "code",
   "execution_count": 4,
   "metadata": {},
   "outputs": [],
   "source": [
    "# -*- coding: utf-8 -*-\n",
    "import numpy as np\n",
    "import pandas as pd\n",
    "import matplotlib.pyplot as plt\n",
    "import seaborn as sns\n",
    "sns.set(style=\"whitegrid\", palette=\"muted\", color_codes=True)   \n",
    "\n",
    "import traceback\n",
    "import warnings\n",
    "warnings.filterwarnings('ignore')"
   ]
  },
  {
   "cell_type": "code",
   "execution_count": 5,
   "metadata": {},
   "outputs": [],
   "source": [
    "from odps import ODPS\n",
    "o = ODPS(access_id=\"LTAIzzPZLTszbygr\",\n",
    "         secret_access_key=\"5ZOzHa5iNMWBouSLnQHWtdfFVjoWcW\",\n",
    "         project=\"cashbus_etl\",\n",
    "         endpoint='http://service.cn.maxcompute.aliyun.com/api',\n",
    "         tunnel_endpoint='http://dt.cn-beijing.maxcompute.aliyun.com')"
   ]
  },
  {
   "cell_type": "code",
   "execution_count": 6,
   "metadata": {},
   "outputs": [
    {
     "name": "stdout",
     "output_type": "stream",
     "text": [
      "<Project cashbus_etl>\n"
     ]
    }
   ],
   "source": [
    "project = o.get_project()\n",
    "print(project)"
   ]
  },
  {
   "cell_type": "code",
   "execution_count": 7,
   "metadata": {},
   "outputs": [],
   "source": [
    "with o.execute_sql(\"select distinct code_created,loanid,l.loanstyle,code,cast(value as double) as value \\\n",
    "                    from dw_cashbus_rule_code c \\\n",
    "                    left join (select distinct id,loanstyle from loan)l on c.loanid = l.id \\\n",
    "                    where code = 'S991_ALL_C' \\\n",
    "                    and code_created < datetrunc(getdate(), 'dd') \\\n",
    "                    and code_created >= dateadd(datetrunc(getdate(), 'dd'),-2,'dd') \\\n",
    "                    and rulename = 'yszx.l0' \\\n",
    "                    and value not in ('-1','-2') \").open_reader(limit_enabled=False) as reader:\n",
    "    df_S991_ALL_C = reader.to_pandas()"
   ]
  },
  {
   "cell_type": "code",
   "execution_count": 8,
   "metadata": {},
   "outputs": [],
   "source": [
    "def df_self_replace(df,old_upper,add_pct):\n",
    "    sort = df.groupby(df).size()\n",
    "    df_sort = {'value':sort.index,'loan_num':sort.values}\n",
    "    df_sort = pd.DataFrame(df_sort)\n",
    "\n",
    "    pct_old = (df_sort.loc[(df_sort['value'] > 0) & (df_sort['value'] < old_upper)]['loan_num'].sum()/df_sort['loan_num'].sum()) \n",
    "    # print(\"pct_old: \" + str(pct_old))\n",
    "    \n",
    "    pct_add = pct_old + add_pct  ##拒绝域增加%\n",
    "    # print(\"pct_add: \" + str(pct_add))\n",
    "    \n",
    "    j = 0\n",
    "    pct_new = 0\n",
    "    for i in df_sort.value.sort_values():\n",
    "        pct_i = df_sort.loc[(df_sort['value'] > 0) & (df_sort['value'] < i)]['loan_num'].sum()/df_sort['loan_num'].sum()\n",
    "        if pct_i <= pct_add:\n",
    "            j = i\n",
    "            pct_new = pct_i\n",
    "\n",
    "    return j,pct_old,pct_add,pct_new"
   ]
  },
  {
   "cell_type": "code",
   "execution_count": 9,
   "metadata": {},
   "outputs": [
    {
     "name": "stdout",
     "output_type": "stream",
     "text": [
      "绿卡3月3期: \n",
      "(842.0, 0.7268885367142103, 0.6268885367142103, 0.6261295076041927)\n",
      "(802.0, 0.6235716073066978, 0.5235716073066978, 0.5217282508966553)\n",
      "(741.0, 0.48816971112408597, 0.38816971112408594, 0.38791114076792615)\n",
      "(892.0, 0.8218366836266577, 0.7718366836266577, 0.7699279895459727)\n"
     ]
    }
   ],
   "source": [
    "# print(\"绿卡30天2期: \")\n",
    "# print(df_self_replace(df_S991_ALL_C.loc[df_S991_ALL_C.loanstyle == '绿卡30天2期'].value,901,0.03))\n",
    "# print(df_self_replace(df_S991_ALL_C.loc[df_S991_ALL_C.loanstyle == '绿卡30天2期'].value,870,0.05))\n",
    "# print(\"          \")\n",
    "print(\"绿卡3月3期: \")\n",
    "print(df_self_replace(df_S991_ALL_C.loc[df_S991_ALL_C.loanstyle == '绿卡3月3期'].value,878,-0.10))\n",
    "print(df_self_replace(df_S991_ALL_C.loc[df_S991_ALL_C.loanstyle == '绿卡3月3期'].value,841,-0.10))\n",
    "print(df_self_replace(df_S991_ALL_C.loc[df_S991_ALL_C.loanstyle == '绿卡3月3期'].value,788,-0.10))\n",
    "\n",
    "print(df_self_replace(df_S991_ALL_C.loc[df_S991_ALL_C.loanstyle == '绿卡3月3期'].value,910,-0.05))\n",
    "# print(df_self_replace(df_S991_ALL_C.loc[df_S991_ALL_C.loanstyle == '绿卡3月3期'].value,885,0.02))\n",
    "# print(\"          \")\n",
    "# print(\"绿卡分期5月: \")\n",
    "# print(df_self_replace(df_S991_ALL_C.loc[df_S991_ALL_C.loanstyle == '绿卡分期5月'].value,925,0.118))"
   ]
  },
  {
   "cell_type": "code",
   "execution_count": null,
   "metadata": {},
   "outputs": [],
   "source": []
  }
 ],
 "metadata": {
  "kernelspec": {
   "display_name": "Python 3",
   "language": "python",
   "name": "python3"
  },
  "language_info": {
   "codemirror_mode": {
    "name": "ipython",
    "version": 3
   },
   "file_extension": ".py",
   "mimetype": "text/x-python",
   "name": "python",
   "nbconvert_exporter": "python",
   "pygments_lexer": "ipython3",
   "version": "3.7.1"
  }
 },
 "nbformat": 4,
 "nbformat_minor": 2
}
